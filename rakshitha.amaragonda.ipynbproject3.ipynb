{
 "cells": [
  {
   "cell_type": "markdown",
   "id": "6691ea57",
   "metadata": {},
   "source": [
    "This project has multiple parts. Please write the code below the project description. Grading follows tha same rubric posted for Project 1. "
   ]
  },
  {
   "cell_type": "markdown",
   "id": "a7535fab",
   "metadata": {},
   "source": [
    "### Part 1\n",
    "Write a Python function, ``make_array`` for generate and return a random Numpy array filled with random integers. This function can accpet the following arguments:\n",
    "- length: the default value of this argument is 100\n",
    "- seed: the seed value for the Numpy randomization. the default value should be 0"
   ]
  },
  {
   "cell_type": "code",
   "execution_count": 30,
   "id": "9bf6e23b",
   "metadata": {},
   "outputs": [
    {
     "name": "stdout",
     "output_type": "stream",
     "text": [
      "random array is:\n",
      " [38 38 46 46 13 24  3 54 18 47  4 42  8 66 50 46 62 36 19 19]\n"
     ]
    }
   ],
   "source": [
    "import numpy as np\n",
    "def make_array(l=100,seed=0):\n",
    "    np.random.seed(seed)\n",
    "    value=np.random.randint(1,100,l)\n",
    "    return value\n",
    "print('random array is:\\n',make_array(20,30))"
   ]
  },
  {
   "cell_type": "markdown",
   "id": "f8f6be5d",
   "metadata": {},
   "source": [
    "### Part 2\n",
    "Write a Python function, ``make_2d_array`` that return a Numpy array of integer tuples. This function accets two Numpy arrays as input. If the length of two input arrays does not match, the shorter array will be filled with extra zeros at the end of the array. Then Concatenate these arrays to return a 2d Numpy array. "
   ]
  },
  {
   "cell_type": "code",
   "execution_count": 31,
   "id": "78809b7c",
   "metadata": {},
   "outputs": [
    {
     "name": "stdout",
     "output_type": "stream",
     "text": [
      "2D array is:\n",
      " [[ 1  2  3  4  5  6  7  8]\n",
      " [ 9 10 11  0  0  0  0  0]]\n"
     ]
    }
   ],
   "source": [
    "def make_2d_array(l1 , l2):\n",
    "    if len(l1) != len(l2):\n",
    "        if len(l1) > len(l2):\n",
    "            l3 = len(l1) - len(l2)\n",
    "            for zeros in range(l3):\n",
    "                l2.append(0)\n",
    "        elif len(l1) < len(l2):\n",
    "            l3 = len(l2) - len(l1)\n",
    "            for zeros in range(l3):\n",
    "                l1.append(0)\n",
    "        a = np.concatenate((l1, l2))\n",
    "        a1 = np.reshape(a, (2, len(l1)))\n",
    "        \n",
    "        return a1\n",
    "    else:\n",
    "        a = np.concatenate((l1, l2))\n",
    "        a1 = np.reshape(a, (2, len(l1)))\n",
    "        \n",
    "        return a1\n",
    "        \n",
    "x = [1,2,3,4,5,6,7,8]\n",
    "y = [9,10,11]\n",
    "\n",
    "z = make_2d_array(x , y)\n",
    "print('2D Numpy array is:\\n',z)\n"
   ]
  },
  {
   "cell_type": "markdown",
   "id": "512f62fb",
   "metadata": {},
   "source": [
    "### Part 3\n",
    "Write a Python function ``replace_zero`` to replace zeros in each columns with a random integer between 1 and maximum of positive values in the same column. For example if the values in a column are 5, 0, and 8, replace zero with a random integer between 1 and 8 (including both 1 and 8). This function will accept a 2d Numpy array and a Numpy seed as an input and returns the modified 2d Numpy array as output.  \n",
    "\n",
    "Note: if all the values in a column are zero, replace all zeros with 1. "
   ]
  },
  {
   "cell_type": "code",
   "execution_count": 32,
   "id": "b04c6f54",
   "metadata": {},
   "outputs": [
    {
     "name": "stdout",
     "output_type": "stream",
     "text": [
      "replaced 2d array is:\n",
      " [[ 1  2  3  4  5  6  7  8]\n",
      " [ 9 10 11  1  3  5  3  7]]\n"
     ]
    }
   ],
   "source": [
    "def replace_zero(l2d):\n",
    "    for column in l2d.T:\n",
    "        low = 1\n",
    "        high = 0\n",
    "        for i in column:\n",
    "            if i > high:\n",
    "                high = i\n",
    "        l = 0\n",
    "        if high == 0:\n",
    "            l2 = 0\n",
    "            for i in column:\n",
    "                column[l2] = 1\n",
    "                l2 = l2+1\n",
    "        else:\n",
    "            for i in column:\n",
    "                new = np.random.randint(low, high)\n",
    "                if i == 0:\n",
    "                    column[l] = new\n",
    "                l = l+1\n",
    "    return l2d\n",
    "print('replaced 2d array is:\\n',replace_zero(z))\n"
   ]
  }
 ],
 "metadata": {
  "kernelspec": {
   "display_name": "Python 3 (ipykernel)",
   "language": "python",
   "name": "python3"
  },
  "language_info": {
   "codemirror_mode": {
    "name": "ipython",
    "version": 3
   },
   "file_extension": ".py",
   "mimetype": "text/x-python",
   "name": "python",
   "nbconvert_exporter": "python",
   "pygments_lexer": "ipython3",
   "version": "3.9.7"
  }
 },
 "nbformat": 4,
 "nbformat_minor": 5
}
