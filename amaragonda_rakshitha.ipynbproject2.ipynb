{
 "cells": [
  {
   "cell_type": "markdown",
   "id": "2700821e",
   "metadata": {},
   "source": [
    "## Project Description\n",
    "\n",
    "#### Part 1\n",
    "Write a function that parses a binary number into a hex number. The function header is:\n",
    "\n",
    "def binaryToHex(binaryValue)\n",
    "\n",
    "Write a test program that prompts the user to enter a binary number and displays the corresponding hexadecimal value. Use uppercase letters A, B, C, D, E, F for hex digits.\n",
    "\n",
    "#### Sample Run\n",
    "\n",
    "Enter a binary number: ``10001111``<br>\n",
    "``The hex value is 8F``\n",
    "\n",
    "If you get a logical or runtime error, please refer https://liangpy.pearsoncmg.com/faq.html."
   ]
  },
  {
   "cell_type": "code",
   "execution_count": 26,
   "id": "400c53d0",
   "metadata": {},
   "outputs": [],
   "source": [
    "def binaryToHex(binaryValue): \n",
    "    a = int(str(binaryValue),2)\n",
    "    hexnum = hex(a)[2:].upper()\n",
    "    return hexnum"
   ]
  },
  {
   "cell_type": "code",
   "execution_count": 27,
   "id": "5bcd045a",
   "metadata": {},
   "outputs": [
    {
     "data": {
      "text/plain": [
       "'8F'"
      ]
     },
     "execution_count": 27,
     "metadata": {},
     "output_type": "execute_result"
    }
   ],
   "source": [
    "binaryToHex(10001111)"
   ]
  },
  {
   "cell_type": "markdown",
   "id": "336ff656",
   "metadata": {},
   "source": [
    "#### Part 2\n",
    "Convert milliseconds to hours, minutes, and seconds)\n",
    "\n",
    "Write a function that converts milliseconds to hours, minutes, and seconds using the following header:\n",
    "\n",
    "``def convertMillis(millis):``\n",
    "\n",
    "The function returns a string as hours:minutes:seconds.\n",
    "\n",
    "For example, convertMillis(5500) returns the string 0:0:5, convertMillis(100000) returns the string 0:1:40, and convertMillis(555550000) returns the string 154:19:10.\n",
    "\n",
    "Write a test program that prompts the user to enter a value for milliseconds and displays a string in the format of hours:minutes:seconds.\n",
    "\n",
    "#### Sample Run\n",
    "\n",
    "Enter time in milliseconds: ``555550000``<br>\n",
    "``154:19:10``\n",
    "\n",
    "If you get a logical or runtime error, please refer https://liangpy.pearsoncmg.com/faq.html."
   ]
  },
  {
   "cell_type": "code",
   "execution_count": 4,
   "id": "51b13a5d",
   "metadata": {},
   "outputs": [],
   "source": [
    "def convertMillis(millis):\n",
    "    s = millis/1000\n",
    "    m = s/60\n",
    "    seconds = s%60\n",
    "    minutes = m%60\n",
    "    return \"{}:{}:{}\".format(int(m/60),int(minutes),int(seconds))"
   ]
  },
  {
   "cell_type": "code",
   "execution_count": 5,
   "id": "3dd90c82",
   "metadata": {},
   "outputs": [
    {
     "data": {
      "text/plain": [
       "'154:19:10'"
      ]
     },
     "execution_count": 5,
     "metadata": {},
     "output_type": "execute_result"
    }
   ],
   "source": [
    "convertMillis(555550000)"
   ]
  }
 ],
 "metadata": {
  "kernelspec": {
   "display_name": "Python 3 (ipykernel)",
   "language": "python",
   "name": "python3"
  },
  "language_info": {
   "codemirror_mode": {
    "name": "ipython",
    "version": 3
   },
   "file_extension": ".py",
   "mimetype": "text/x-python",
   "name": "python",
   "nbconvert_exporter": "python",
   "pygments_lexer": "ipython3",
   "version": "3.9.7"
  }
 },
 "nbformat": 4,
 "nbformat_minor": 5
}
